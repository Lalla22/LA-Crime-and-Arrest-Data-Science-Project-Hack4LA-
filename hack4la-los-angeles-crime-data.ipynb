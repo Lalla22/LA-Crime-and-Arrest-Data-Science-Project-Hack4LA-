{
 "cells": [
  {
   "cell_type": "code",
   "execution_count": 9,
   "metadata": {
    "_cell_guid": "b1076dfc-b9ad-4769-8c92-a6c4dae69d19",
    "_uuid": "8f2839f25d086af736a60e9eeb907d3b93b6e0e5",
    "execution": {
     "iopub.execute_input": "2023-10-22T06:22:45.238977Z",
     "iopub.status.busy": "2023-10-22T06:22:45.238601Z",
     "iopub.status.idle": "2023-10-22T06:22:47.136399Z",
     "shell.execute_reply": "2023-10-22T06:22:47.135507Z",
     "shell.execute_reply.started": "2023-10-22T06:22:45.238947Z"
    }
   },
   "outputs": [],
   "source": [
    "# This Python 3 environment comes with many helpful analytics libraries installed\n",
    "# It is defined by the kaggle/python Docker image: https://github.com/kaggle/docker-python\n",
    "# For example, here's several helpful packages to load\n",
    "\n",
    "import numpy as np # linear algebra\n",
    "import pandas as pd # data processing, CSV file I/O (e.g. pd.read_csv)\n",
    "import seaborn as sns\n",
    "import matplotlib.pyplot as plt\n",
    "from scipy.stats import norm\n",
    "from sklearn.preprocessing import StandardScaler\n",
    "from scipy import stats\n",
    "import warnings\n",
    "\n",
    "\n",
    "# Input data files are available in the read-only \"../input/\" directory\n",
    "# For example, running this (by clicking run or pressing Shift+Enter) will list all files under the input directory\n",
    "\n",
    "import os\n",
    "for dirname, _, filenames in os.walk('/kaggle/input'):\n",
    "    for filename in filenames:\n",
    "        print(os.path.join(dirname, filename))\n",
    "\n",
    "# You can write up to 20GB to the current directory (/kaggle/working/) that gets preserved as output when you create a version using \"Save & Run All\" \n",
    "# You can also write temporary files to /kaggle/temp/, but they won't be saved outside of the current session"
   ]
  },
  {
   "cell_type": "code",
   "execution_count": 10,
   "metadata": {
    "execution": {
     "iopub.execute_input": "2023-10-22T06:22:51.920543Z",
     "iopub.status.busy": "2023-10-22T06:22:51.919992Z",
     "iopub.status.idle": "2023-10-22T06:23:08.313192Z",
     "shell.execute_reply": "2023-10-22T06:23:08.312076Z",
     "shell.execute_reply.started": "2023-10-22T06:22:51.920511Z"
    }
   },
   "outputs": [],
   "source": [
    "df_crime = pd.read_csv(r\"C:\\Users\\lalla\\Downloads\\Hack4LA\\Hack4LA City of Los Angeles Arrests project\\data sets\\crime-data-from-2010-to-present.csv\")\n"
   ]
  },
  {
   "cell_type": "code",
   "execution_count": 11,
   "metadata": {
    "execution": {
     "iopub.execute_input": "2023-10-22T06:23:23.584978Z",
     "iopub.status.busy": "2023-10-22T06:23:23.584626Z",
     "iopub.status.idle": "2023-10-22T06:23:23.626894Z",
     "shell.execute_reply": "2023-10-22T06:23:23.625628Z",
     "shell.execute_reply.started": "2023-10-22T06:23:23.584950Z"
    }
   },
   "outputs": [
    {
     "data": {
      "text/html": [
       "<div>\n",
       "<style scoped>\n",
       "    .dataframe tbody tr th:only-of-type {\n",
       "        vertical-align: middle;\n",
       "    }\n",
       "\n",
       "    .dataframe tbody tr th {\n",
       "        vertical-align: top;\n",
       "    }\n",
       "\n",
       "    .dataframe thead th {\n",
       "        text-align: right;\n",
       "    }\n",
       "</style>\n",
       "<table border=\"1\" class=\"dataframe\">\n",
       "  <thead>\n",
       "    <tr style=\"text-align: right;\">\n",
       "      <th></th>\n",
       "      <th>DR Number</th>\n",
       "      <th>Date Reported</th>\n",
       "      <th>Date Occurred</th>\n",
       "      <th>Time Occurred</th>\n",
       "      <th>Area ID</th>\n",
       "      <th>Area Name</th>\n",
       "      <th>Reporting District</th>\n",
       "      <th>Crime Code</th>\n",
       "      <th>Crime Code Description</th>\n",
       "      <th>MO Codes</th>\n",
       "      <th>...</th>\n",
       "      <th>Weapon Description</th>\n",
       "      <th>Status Code</th>\n",
       "      <th>Status Description</th>\n",
       "      <th>Crime Code 1</th>\n",
       "      <th>Crime Code 2</th>\n",
       "      <th>Crime Code 3</th>\n",
       "      <th>Crime Code 4</th>\n",
       "      <th>Address</th>\n",
       "      <th>Cross Street</th>\n",
       "      <th>Location</th>\n",
       "    </tr>\n",
       "  </thead>\n",
       "  <tbody>\n",
       "    <tr>\n",
       "      <th>0</th>\n",
       "      <td>102005556</td>\n",
       "      <td>2010-01-25T00:00:00</td>\n",
       "      <td>2010-01-22T00:00:00</td>\n",
       "      <td>2300</td>\n",
       "      <td>20</td>\n",
       "      <td>Olympic</td>\n",
       "      <td>2071</td>\n",
       "      <td>510</td>\n",
       "      <td>VEHICLE - STOLEN</td>\n",
       "      <td>NaN</td>\n",
       "      <td>...</td>\n",
       "      <td>NaN</td>\n",
       "      <td>IC</td>\n",
       "      <td>Invest Cont</td>\n",
       "      <td>510.0</td>\n",
       "      <td>NaN</td>\n",
       "      <td>NaN</td>\n",
       "      <td>NaN</td>\n",
       "      <td>VAN NESS</td>\n",
       "      <td>15TH</td>\n",
       "      <td>{'latitude': '34.0454', 'needs_recoding': Fals...</td>\n",
       "    </tr>\n",
       "    <tr>\n",
       "      <th>1</th>\n",
       "      <td>101822289</td>\n",
       "      <td>2010-11-11T00:00:00</td>\n",
       "      <td>2010-11-10T00:00:00</td>\n",
       "      <td>1800</td>\n",
       "      <td>18</td>\n",
       "      <td>Southeast</td>\n",
       "      <td>1803</td>\n",
       "      <td>510</td>\n",
       "      <td>VEHICLE - STOLEN</td>\n",
       "      <td>NaN</td>\n",
       "      <td>...</td>\n",
       "      <td>NaN</td>\n",
       "      <td>IC</td>\n",
       "      <td>Invest Cont</td>\n",
       "      <td>510.0</td>\n",
       "      <td>NaN</td>\n",
       "      <td>NaN</td>\n",
       "      <td>NaN</td>\n",
       "      <td>88TH</td>\n",
       "      <td>WALL</td>\n",
       "      <td>{'latitude': '33.9572', 'needs_recoding': Fals...</td>\n",
       "    </tr>\n",
       "    <tr>\n",
       "      <th>2</th>\n",
       "      <td>101105609</td>\n",
       "      <td>2010-01-28T00:00:00</td>\n",
       "      <td>2010-01-27T00:00:00</td>\n",
       "      <td>2230</td>\n",
       "      <td>11</td>\n",
       "      <td>Northeast</td>\n",
       "      <td>1125</td>\n",
       "      <td>510</td>\n",
       "      <td>VEHICLE - STOLEN</td>\n",
       "      <td>NaN</td>\n",
       "      <td>...</td>\n",
       "      <td>NaN</td>\n",
       "      <td>IC</td>\n",
       "      <td>Invest Cont</td>\n",
       "      <td>510.0</td>\n",
       "      <td>NaN</td>\n",
       "      <td>NaN</td>\n",
       "      <td>NaN</td>\n",
       "      <td>YORK</td>\n",
       "      <td>AVENUE 51</td>\n",
       "      <td>{'latitude': '34.1211', 'needs_recoding': Fals...</td>\n",
       "    </tr>\n",
       "    <tr>\n",
       "      <th>3</th>\n",
       "      <td>101620051</td>\n",
       "      <td>2010-11-11T00:00:00</td>\n",
       "      <td>2010-11-07T00:00:00</td>\n",
       "      <td>1600</td>\n",
       "      <td>16</td>\n",
       "      <td>Foothill</td>\n",
       "      <td>1641</td>\n",
       "      <td>510</td>\n",
       "      <td>VEHICLE - STOLEN</td>\n",
       "      <td>NaN</td>\n",
       "      <td>...</td>\n",
       "      <td>NaN</td>\n",
       "      <td>IC</td>\n",
       "      <td>Invest Cont</td>\n",
       "      <td>510.0</td>\n",
       "      <td>NaN</td>\n",
       "      <td>NaN</td>\n",
       "      <td>NaN</td>\n",
       "      <td>EL DORADO</td>\n",
       "      <td>TRUESDALE</td>\n",
       "      <td>{'latitude': '34.241', 'needs_recoding': False...</td>\n",
       "    </tr>\n",
       "    <tr>\n",
       "      <th>4</th>\n",
       "      <td>101910498</td>\n",
       "      <td>2010-04-07T00:00:00</td>\n",
       "      <td>2010-04-07T00:00:00</td>\n",
       "      <td>1600</td>\n",
       "      <td>19</td>\n",
       "      <td>Mission</td>\n",
       "      <td>1902</td>\n",
       "      <td>510</td>\n",
       "      <td>VEHICLE - STOLEN</td>\n",
       "      <td>NaN</td>\n",
       "      <td>...</td>\n",
       "      <td>NaN</td>\n",
       "      <td>IC</td>\n",
       "      <td>Invest Cont</td>\n",
       "      <td>510.0</td>\n",
       "      <td>NaN</td>\n",
       "      <td>NaN</td>\n",
       "      <td>NaN</td>\n",
       "      <td>GLENOAKS</td>\n",
       "      <td>DRELL</td>\n",
       "      <td>{'latitude': '34.3147', 'needs_recoding': Fals...</td>\n",
       "    </tr>\n",
       "  </tbody>\n",
       "</table>\n",
       "<p>5 rows × 26 columns</p>\n",
       "</div>"
      ],
      "text/plain": [
       "   DR Number        Date Reported        Date Occurred  Time Occurred  \\\n",
       "0  102005556  2010-01-25T00:00:00  2010-01-22T00:00:00           2300   \n",
       "1  101822289  2010-11-11T00:00:00  2010-11-10T00:00:00           1800   \n",
       "2  101105609  2010-01-28T00:00:00  2010-01-27T00:00:00           2230   \n",
       "3  101620051  2010-11-11T00:00:00  2010-11-07T00:00:00           1600   \n",
       "4  101910498  2010-04-07T00:00:00  2010-04-07T00:00:00           1600   \n",
       "\n",
       "   Area ID  Area Name  Reporting District  Crime Code Crime Code Description  \\\n",
       "0       20    Olympic                2071         510       VEHICLE - STOLEN   \n",
       "1       18  Southeast                1803         510       VEHICLE - STOLEN   \n",
       "2       11  Northeast                1125         510       VEHICLE - STOLEN   \n",
       "3       16   Foothill                1641         510       VEHICLE - STOLEN   \n",
       "4       19    Mission                1902         510       VEHICLE - STOLEN   \n",
       "\n",
       "  MO Codes  ...  Weapon Description Status Code Status Description  \\\n",
       "0      NaN  ...                 NaN          IC        Invest Cont   \n",
       "1      NaN  ...                 NaN          IC        Invest Cont   \n",
       "2      NaN  ...                 NaN          IC        Invest Cont   \n",
       "3      NaN  ...                 NaN          IC        Invest Cont   \n",
       "4      NaN  ...                 NaN          IC        Invest Cont   \n",
       "\n",
       "   Crime Code 1 Crime Code 2  Crime Code 3 Crime Code 4    Address  \\\n",
       "0         510.0          NaN           NaN          NaN   VAN NESS   \n",
       "1         510.0          NaN           NaN          NaN       88TH   \n",
       "2         510.0          NaN           NaN          NaN       YORK   \n",
       "3         510.0          NaN           NaN          NaN  EL DORADO   \n",
       "4         510.0          NaN           NaN          NaN   GLENOAKS   \n",
       "\n",
       "  Cross Street                                          Location   \n",
       "0         15TH  {'latitude': '34.0454', 'needs_recoding': Fals...  \n",
       "1         WALL  {'latitude': '33.9572', 'needs_recoding': Fals...  \n",
       "2    AVENUE 51  {'latitude': '34.1211', 'needs_recoding': Fals...  \n",
       "3    TRUESDALE  {'latitude': '34.241', 'needs_recoding': False...  \n",
       "4        DRELL  {'latitude': '34.3147', 'needs_recoding': Fals...  \n",
       "\n",
       "[5 rows x 26 columns]"
      ]
     },
     "execution_count": 11,
     "metadata": {},
     "output_type": "execute_result"
    }
   ],
   "source": [
    "df_crime.head()"
   ]
  },
  {
   "cell_type": "code",
   "execution_count": 12,
   "metadata": {
    "execution": {
     "iopub.execute_input": "2023-10-22T06:23:37.784192Z",
     "iopub.status.busy": "2023-10-22T06:23:37.783710Z",
     "iopub.status.idle": "2023-10-22T06:23:37.792797Z",
     "shell.execute_reply": "2023-10-22T06:23:37.791504Z",
     "shell.execute_reply.started": "2023-10-22T06:23:37.784131Z"
    }
   },
   "outputs": [
    {
     "data": {
      "text/plain": [
       "(1993259, 26)"
      ]
     },
     "execution_count": 12,
     "metadata": {},
     "output_type": "execute_result"
    }
   ],
   "source": [
    "df_crime.shape"
   ]
  },
  {
   "cell_type": "code",
   "execution_count": 13,
   "metadata": {
    "execution": {
     "iopub.execute_input": "2023-10-22T06:23:41.796044Z",
     "iopub.status.busy": "2023-10-22T06:23:41.795644Z",
     "iopub.status.idle": "2023-10-22T06:23:41.802090Z",
     "shell.execute_reply": "2023-10-22T06:23:41.801473Z",
     "shell.execute_reply.started": "2023-10-22T06:23:41.796006Z"
    }
   },
   "outputs": [
    {
     "data": {
      "text/plain": [
       "Index(['DR Number', 'Date Reported', 'Date Occurred', 'Time Occurred',\n",
       "       'Area ID', 'Area Name', 'Reporting District', 'Crime Code',\n",
       "       'Crime Code Description', 'MO Codes', 'Victim Age', 'Victim Sex',\n",
       "       'Victim Descent', 'Premise Code', 'Premise Description',\n",
       "       'Weapon Used Code', 'Weapon Description', 'Status Code',\n",
       "       'Status Description', 'Crime Code 1', 'Crime Code 2', 'Crime Code 3',\n",
       "       'Crime Code 4', 'Address', 'Cross Street', 'Location '],\n",
       "      dtype='object')"
      ]
     },
     "execution_count": 13,
     "metadata": {},
     "output_type": "execute_result"
    }
   ],
   "source": [
    "df_crime.columns"
   ]
  },
  {
   "cell_type": "code",
   "execution_count": 16,
   "metadata": {
    "execution": {
     "iopub.execute_input": "2023-10-22T06:24:07.384686Z",
     "iopub.status.busy": "2023-10-22T06:24:07.384338Z",
     "iopub.status.idle": "2023-10-22T06:24:07.389303Z",
     "shell.execute_reply": "2023-10-22T06:24:07.388207Z",
     "shell.execute_reply.started": "2023-10-22T06:24:07.384658Z"
    }
   },
   "outputs": [],
   "source": [
    "df_crime.columns = [c.replace(' ', '_') for c in df_crime.columns]"
   ]
  },
  {
   "cell_type": "code",
   "execution_count": 17,
   "metadata": {
    "execution": {
     "iopub.execute_input": "2023-10-22T06:24:56.267919Z",
     "iopub.status.busy": "2023-10-22T06:24:56.267564Z",
     "iopub.status.idle": "2023-10-22T06:24:56.440707Z",
     "shell.execute_reply": "2023-10-22T06:24:56.439731Z",
     "shell.execute_reply.started": "2023-10-22T06:24:56.267888Z"
    }
   },
   "outputs": [
    {
     "data": {
      "text/plain": [
       "count         1993259\n",
       "unique             21\n",
       "top       77th Street\n",
       "freq           137513\n",
       "Name: Area_Name, dtype: object"
      ]
     },
     "execution_count": 17,
     "metadata": {},
     "output_type": "execute_result"
    }
   ],
   "source": [
    "df_crime['Area_Name'].describe()"
   ]
  },
  {
   "cell_type": "code",
   "execution_count": 18,
   "metadata": {
    "execution": {
     "iopub.execute_input": "2023-10-22T06:25:09.585912Z",
     "iopub.status.busy": "2023-10-22T06:25:09.585570Z",
     "iopub.status.idle": "2023-10-22T06:25:09.645869Z",
     "shell.execute_reply": "2023-10-22T06:25:09.644576Z",
     "shell.execute_reply.started": "2023-10-22T06:25:09.585888Z"
    }
   },
   "outputs": [
    {
     "data": {
      "text/plain": [
       "count    1.993259e+06\n",
       "mean     5.069209e+02\n",
       "std      2.104709e+02\n",
       "min      1.100000e+02\n",
       "25%      3.300000e+02\n",
       "50%      4.410000e+02\n",
       "75%      6.260000e+02\n",
       "max      9.560000e+02\n",
       "Name: Crime_Code, dtype: float64"
      ]
     },
     "execution_count": 18,
     "metadata": {},
     "output_type": "execute_result"
    }
   ],
   "source": [
    "df_crime['Crime_Code'].describe()"
   ]
  },
  {
   "cell_type": "code",
   "execution_count": 19,
   "metadata": {
    "execution": {
     "iopub.execute_input": "2023-10-22T06:27:23.232861Z",
     "iopub.status.busy": "2023-10-22T06:27:23.232506Z",
     "iopub.status.idle": "2023-10-22T06:27:23.240972Z",
     "shell.execute_reply": "2023-10-22T06:27:23.240007Z",
     "shell.execute_reply.started": "2023-10-22T06:27:23.232833Z"
    }
   },
   "outputs": [
    {
     "data": {
      "text/plain": [
       "0    VEHICLE - STOLEN\n",
       "1    VEHICLE - STOLEN\n",
       "2    VEHICLE - STOLEN\n",
       "3    VEHICLE - STOLEN\n",
       "4    VEHICLE - STOLEN\n",
       "Name: Crime_Code_Description, dtype: object"
      ]
     },
     "execution_count": 19,
     "metadata": {},
     "output_type": "execute_result"
    }
   ],
   "source": [
    "df_crime['Crime_Code_Description'].head()"
   ]
  },
  {
   "cell_type": "code",
   "execution_count": 20,
   "metadata": {
    "execution": {
     "iopub.execute_input": "2023-10-22T06:28:10.085614Z",
     "iopub.status.busy": "2023-10-22T06:28:10.085189Z",
     "iopub.status.idle": "2023-10-22T06:28:10.727569Z",
     "shell.execute_reply": "2023-10-22T06:28:10.726200Z",
     "shell.execute_reply.started": "2023-10-22T06:28:10.085581Z"
    }
   },
   "outputs": [
    {
     "data": {
      "text/html": [
       "<div>\n",
       "<style scoped>\n",
       "    .dataframe tbody tr th:only-of-type {\n",
       "        vertical-align: middle;\n",
       "    }\n",
       "\n",
       "    .dataframe tbody tr th {\n",
       "        vertical-align: top;\n",
       "    }\n",
       "\n",
       "    .dataframe thead th {\n",
       "        text-align: right;\n",
       "    }\n",
       "</style>\n",
       "<table border=\"1\" class=\"dataframe\">\n",
       "  <thead>\n",
       "    <tr style=\"text-align: right;\">\n",
       "      <th></th>\n",
       "      <th>DR_Number</th>\n",
       "      <th>Time_Occurred</th>\n",
       "      <th>Area_ID</th>\n",
       "      <th>Reporting_District</th>\n",
       "      <th>Crime_Code</th>\n",
       "      <th>Victim_Age</th>\n",
       "      <th>Premise_Code</th>\n",
       "      <th>Weapon_Used_Code</th>\n",
       "      <th>Crime_Code_1</th>\n",
       "      <th>Crime_Code_2</th>\n",
       "      <th>Crime_Code_3</th>\n",
       "      <th>Crime_Code_4</th>\n",
       "    </tr>\n",
       "  </thead>\n",
       "  <tbody>\n",
       "    <tr>\n",
       "      <th>count</th>\n",
       "      <td>1.993259e+06</td>\n",
       "      <td>1.993259e+06</td>\n",
       "      <td>1.993259e+06</td>\n",
       "      <td>1.993259e+06</td>\n",
       "      <td>1.993259e+06</td>\n",
       "      <td>1.993259e+06</td>\n",
       "      <td>1.993209e+06</td>\n",
       "      <td>667618.000000</td>\n",
       "      <td>1.993250e+06</td>\n",
       "      <td>130161.000000</td>\n",
       "      <td>3235.000000</td>\n",
       "      <td>96.000000</td>\n",
       "    </tr>\n",
       "    <tr>\n",
       "      <th>mean</th>\n",
       "      <td>1.452681e+08</td>\n",
       "      <td>1.361522e+03</td>\n",
       "      <td>1.110423e+01</td>\n",
       "      <td>1.156819e+03</td>\n",
       "      <td>5.069209e+02</td>\n",
       "      <td>3.178082e+01</td>\n",
       "      <td>3.111638e+02</td>\n",
       "      <td>371.145126</td>\n",
       "      <td>5.067552e+02</td>\n",
       "      <td>950.934166</td>\n",
       "      <td>971.498300</td>\n",
       "      <td>974.218750</td>\n",
       "    </tr>\n",
       "    <tr>\n",
       "      <th>std</th>\n",
       "      <td>2.759142e+07</td>\n",
       "      <td>6.467373e+02</td>\n",
       "      <td>6.007329e+00</td>\n",
       "      <td>6.007339e+02</td>\n",
       "      <td>2.104709e+02</td>\n",
       "      <td>2.060810e+01</td>\n",
       "      <td>2.110329e+02</td>\n",
       "      <td>113.643154</td>\n",
       "      <td>2.103421e+02</td>\n",
       "      <td>125.442245</td>\n",
       "      <td>87.084159</td>\n",
       "      <td>84.043623</td>\n",
       "    </tr>\n",
       "    <tr>\n",
       "      <th>min</th>\n",
       "      <td>2.100000e+02</td>\n",
       "      <td>1.000000e+00</td>\n",
       "      <td>1.000000e+00</td>\n",
       "      <td>1.000000e+02</td>\n",
       "      <td>1.100000e+02</td>\n",
       "      <td>-9.000000e+00</td>\n",
       "      <td>1.010000e+02</td>\n",
       "      <td>101.000000</td>\n",
       "      <td>1.100000e+02</td>\n",
       "      <td>210.000000</td>\n",
       "      <td>93.000000</td>\n",
       "      <td>421.000000</td>\n",
       "    </tr>\n",
       "    <tr>\n",
       "      <th>25%</th>\n",
       "      <td>1.212041e+08</td>\n",
       "      <td>9.300000e+02</td>\n",
       "      <td>6.000000e+00</td>\n",
       "      <td>6.440000e+02</td>\n",
       "      <td>3.300000e+02</td>\n",
       "      <td>2.000000e+01</td>\n",
       "      <td>1.020000e+02</td>\n",
       "      <td>400.000000</td>\n",
       "      <td>3.300000e+02</td>\n",
       "      <td>998.000000</td>\n",
       "      <td>998.000000</td>\n",
       "      <td>998.000000</td>\n",
       "    </tr>\n",
       "    <tr>\n",
       "      <th>50%</th>\n",
       "      <td>1.502066e+08</td>\n",
       "      <td>1.430000e+03</td>\n",
       "      <td>1.200000e+01</td>\n",
       "      <td>1.203000e+03</td>\n",
       "      <td>4.410000e+02</td>\n",
       "      <td>3.200000e+01</td>\n",
       "      <td>2.100000e+02</td>\n",
       "      <td>400.000000</td>\n",
       "      <td>4.410000e+02</td>\n",
       "      <td>998.000000</td>\n",
       "      <td>998.000000</td>\n",
       "      <td>998.000000</td>\n",
       "    </tr>\n",
       "    <tr>\n",
       "      <th>75%</th>\n",
       "      <td>1.707102e+08</td>\n",
       "      <td>1.900000e+03</td>\n",
       "      <td>1.600000e+01</td>\n",
       "      <td>1.672000e+03</td>\n",
       "      <td>6.260000e+02</td>\n",
       "      <td>4.600000e+01</td>\n",
       "      <td>5.010000e+02</td>\n",
       "      <td>400.000000</td>\n",
       "      <td>6.260000e+02</td>\n",
       "      <td>998.000000</td>\n",
       "      <td>998.000000</td>\n",
       "      <td>998.000000</td>\n",
       "    </tr>\n",
       "    <tr>\n",
       "      <th>max</th>\n",
       "      <td>9.102204e+08</td>\n",
       "      <td>2.359000e+03</td>\n",
       "      <td>2.100000e+01</td>\n",
       "      <td>2.199000e+03</td>\n",
       "      <td>9.560000e+02</td>\n",
       "      <td>1.180000e+02</td>\n",
       "      <td>9.710000e+02</td>\n",
       "      <td>516.000000</td>\n",
       "      <td>9.990000e+02</td>\n",
       "      <td>999.000000</td>\n",
       "      <td>999.000000</td>\n",
       "      <td>999.000000</td>\n",
       "    </tr>\n",
       "  </tbody>\n",
       "</table>\n",
       "</div>"
      ],
      "text/plain": [
       "          DR_Number  Time_Occurred       Area_ID  Reporting_District  \\\n",
       "count  1.993259e+06   1.993259e+06  1.993259e+06        1.993259e+06   \n",
       "mean   1.452681e+08   1.361522e+03  1.110423e+01        1.156819e+03   \n",
       "std    2.759142e+07   6.467373e+02  6.007329e+00        6.007339e+02   \n",
       "min    2.100000e+02   1.000000e+00  1.000000e+00        1.000000e+02   \n",
       "25%    1.212041e+08   9.300000e+02  6.000000e+00        6.440000e+02   \n",
       "50%    1.502066e+08   1.430000e+03  1.200000e+01        1.203000e+03   \n",
       "75%    1.707102e+08   1.900000e+03  1.600000e+01        1.672000e+03   \n",
       "max    9.102204e+08   2.359000e+03  2.100000e+01        2.199000e+03   \n",
       "\n",
       "         Crime_Code    Victim_Age  Premise_Code  Weapon_Used_Code  \\\n",
       "count  1.993259e+06  1.993259e+06  1.993209e+06     667618.000000   \n",
       "mean   5.069209e+02  3.178082e+01  3.111638e+02        371.145126   \n",
       "std    2.104709e+02  2.060810e+01  2.110329e+02        113.643154   \n",
       "min    1.100000e+02 -9.000000e+00  1.010000e+02        101.000000   \n",
       "25%    3.300000e+02  2.000000e+01  1.020000e+02        400.000000   \n",
       "50%    4.410000e+02  3.200000e+01  2.100000e+02        400.000000   \n",
       "75%    6.260000e+02  4.600000e+01  5.010000e+02        400.000000   \n",
       "max    9.560000e+02  1.180000e+02  9.710000e+02        516.000000   \n",
       "\n",
       "       Crime_Code_1   Crime_Code_2  Crime_Code_3  Crime_Code_4  \n",
       "count  1.993250e+06  130161.000000   3235.000000     96.000000  \n",
       "mean   5.067552e+02     950.934166    971.498300    974.218750  \n",
       "std    2.103421e+02     125.442245     87.084159     84.043623  \n",
       "min    1.100000e+02     210.000000     93.000000    421.000000  \n",
       "25%    3.300000e+02     998.000000    998.000000    998.000000  \n",
       "50%    4.410000e+02     998.000000    998.000000    998.000000  \n",
       "75%    6.260000e+02     998.000000    998.000000    998.000000  \n",
       "max    9.990000e+02     999.000000    999.000000    999.000000  "
      ]
     },
     "execution_count": 20,
     "metadata": {},
     "output_type": "execute_result"
    }
   ],
   "source": [
    "df_crime.describe()"
   ]
  },
  {
   "cell_type": "code",
   "execution_count": 21,
   "metadata": {
    "execution": {
     "iopub.execute_input": "2023-10-22T06:29:49.822425Z",
     "iopub.status.busy": "2023-10-22T06:29:49.822026Z",
     "iopub.status.idle": "2023-10-22T06:29:49.831671Z",
     "shell.execute_reply": "2023-10-22T06:29:49.830333Z",
     "shell.execute_reply.started": "2023-10-22T06:29:49.822395Z"
    }
   },
   "outputs": [
    {
     "data": {
      "text/plain": [
       "31.780824268195953"
      ]
     },
     "execution_count": 21,
     "metadata": {},
     "output_type": "execute_result"
    }
   ],
   "source": [
    "df_crime.Victim_Age.mean()"
   ]
  },
  {
   "cell_type": "code",
   "execution_count": 22,
   "metadata": {
    "execution": {
     "iopub.execute_input": "2023-10-22T06:30:30.513338Z",
     "iopub.status.busy": "2023-10-22T06:30:30.512935Z",
     "iopub.status.idle": "2023-10-22T06:30:30.523105Z",
     "shell.execute_reply": "2023-10-22T06:30:30.521750Z",
     "shell.execute_reply.started": "2023-10-22T06:30:30.513301Z"
    }
   },
   "outputs": [
    {
     "data": {
      "text/plain": [
       "1993259"
      ]
     },
     "execution_count": 22,
     "metadata": {},
     "output_type": "execute_result"
    }
   ],
   "source": [
    "df_crime.DR_Number.count()"
   ]
  },
  {
   "cell_type": "code",
   "execution_count": 23,
   "metadata": {
    "execution": {
     "iopub.execute_input": "2023-10-22T06:33:35.092936Z",
     "iopub.status.busy": "2023-10-22T06:33:35.092578Z",
     "iopub.status.idle": "2023-10-22T06:33:35.200645Z",
     "shell.execute_reply": "2023-10-22T06:33:35.199505Z",
     "shell.execute_reply.started": "2023-10-22T06:33:35.092907Z"
    }
   },
   "outputs": [
    {
     "data": {
      "text/plain": [
       "77th Street    137513\n",
       "Southwest      128111\n",
       "N Hollywood    107707\n",
       "Pacific        105655\n",
       "Southeast      105104\n",
       "Mission         98395\n",
       "Northeast       94912\n",
       "Van Nuys        94358\n",
       "Newton          94123\n",
       "Hollywood       92742\n",
       "Topanga         92262\n",
       "Devonshire      91347\n",
       "Central         90489\n",
       "Olympic         89634\n",
       "Harbor          86972\n",
       "West Valley     84521\n",
       "Rampart         84241\n",
       "West LA         83736\n",
       "Wilshire        82575\n",
       "Foothill        75348\n",
       "Hollenbeck      73514\n",
       "Name: Area_Name, dtype: int64"
      ]
     },
     "execution_count": 23,
     "metadata": {},
     "output_type": "execute_result"
    }
   ],
   "source": [
    "df_crime.Area_Name.value_counts()"
   ]
  },
  {
   "cell_type": "code",
   "execution_count": 24,
   "metadata": {
    "execution": {
     "iopub.execute_input": "2023-10-22T06:36:18.385696Z",
     "iopub.status.busy": "2023-10-22T06:36:18.385356Z",
     "iopub.status.idle": "2023-10-22T06:36:18.666648Z",
     "shell.execute_reply": "2023-10-22T06:36:18.665401Z",
     "shell.execute_reply.started": "2023-10-22T06:36:18.385667Z"
    }
   },
   "outputs": [
    {
     "data": {
      "text/plain": [
       "6TH                          ST            4524\n",
       "7TH                          ST            3567\n",
       "9300    TAMPA                        AV    3396\n",
       "6TH                                        3025\n",
       "5TH                          ST            2874\n",
       "                                           ... \n",
       "FLEET                        AV               1\n",
       "PURDUE                       ST               1\n",
       "100    SPINNAKER MA                           1\n",
       "6500    SUNSET                       AV       1\n",
       "CORINGA                                       1\n",
       "Name: Address, Length: 74330, dtype: int64"
      ]
     },
     "execution_count": 24,
     "metadata": {},
     "output_type": "execute_result"
    }
   ],
   "source": [
    "df_crime.Address.value_counts()"
   ]
  },
  {
   "cell_type": "code",
   "execution_count": 25,
   "metadata": {
    "execution": {
     "iopub.execute_input": "2023-10-22T06:31:10.094226Z",
     "iopub.status.busy": "2023-10-22T06:31:10.093843Z",
     "iopub.status.idle": "2023-10-22T06:31:10.218137Z",
     "shell.execute_reply": "2023-10-22T06:31:10.216915Z",
     "shell.execute_reply.started": "2023-10-22T06:31:10.094197Z"
    }
   },
   "outputs": [
    {
     "data": {
      "text/plain": [
       "BATTERY - SIMPLE ASSAULT                                   180434\n",
       "BURGLARY FROM VEHICLE                                      153451\n",
       "VEHICLE - STOLEN                                           151622\n",
       "THEFT PLAIN - PETTY ($950 & UNDER)                         141489\n",
       "BURGLARY                                                   140926\n",
       "                                                            ...  \n",
       "BLOCKING DOOR INDUCTION CENTER                                  3\n",
       "TRAIN WRECKING                                                  2\n",
       "FIREARMS RESTRAINING ORDER (FIREARMS RO)                        2\n",
       "DRUNK ROLL - ATTEMPT                                            1\n",
       "FIREARMS TEMPORARY RESTRAINING ORDER (TEMP FIREARMS RO)         1\n",
       "Name: Crime_Code_Description, Length: 140, dtype: int64"
      ]
     },
     "execution_count": 25,
     "metadata": {},
     "output_type": "execute_result"
    }
   ],
   "source": [
    "df_crime.Crime_Code_Description.value_counts()"
   ]
  },
  {
   "cell_type": "code",
   "execution_count": 26,
   "metadata": {
    "execution": {
     "iopub.execute_input": "2023-10-22T06:40:41.396407Z",
     "iopub.status.busy": "2023-10-22T06:40:41.395983Z",
     "iopub.status.idle": "2023-10-22T06:40:41.503969Z",
     "shell.execute_reply": "2023-10-22T06:40:41.503015Z",
     "shell.execute_reply.started": "2023-10-22T06:40:41.396374Z"
    }
   },
   "outputs": [
    {
     "data": {
      "text/plain": [
       "array(['Olympic', 'Southeast', 'Northeast', 'Foothill', 'Mission',\n",
       "       'Newton', 'West Valley', '77th Street', 'Pacific', 'N Hollywood',\n",
       "       'Topanga', 'Devonshire', 'Rampart', 'Central', 'Southwest',\n",
       "       'Hollenbeck', 'Hollywood', 'Harbor', 'West LA', 'Wilshire',\n",
       "       'Van Nuys'], dtype=object)"
      ]
     },
     "execution_count": 26,
     "metadata": {},
     "output_type": "execute_result"
    }
   ],
   "source": [
    "df_crime.Area_Name.unique()"
   ]
  },
  {
   "cell_type": "code",
   "execution_count": null,
   "metadata": {},
   "outputs": [],
   "source": []
  },
  {
   "cell_type": "code",
   "execution_count": null,
   "metadata": {},
   "outputs": [],
   "source": []
  },
  {
   "cell_type": "code",
   "execution_count": null,
   "metadata": {},
   "outputs": [],
   "source": []
  },
  {
   "cell_type": "code",
   "execution_count": null,
   "metadata": {},
   "outputs": [],
   "source": []
  },
  {
   "cell_type": "code",
   "execution_count": 27,
   "metadata": {},
   "outputs": [],
   "source": [
    "#Graphs for Crime Data "
   ]
  },
  {
   "cell_type": "code",
   "execution_count": 28,
   "metadata": {
    "execution": {
     "iopub.execute_input": "2023-10-22T06:42:19.110344Z",
     "iopub.status.busy": "2023-10-22T06:42:19.109951Z",
     "iopub.status.idle": "2023-10-22T06:42:27.105932Z",
     "shell.execute_reply": "2023-10-22T06:42:27.104883Z",
     "shell.execute_reply.started": "2023-10-22T06:42:19.110314Z"
    }
   },
   "outputs": [
    {
     "name": "stderr",
     "output_type": "stream",
     "text": [
      "C:\\Users\\lalla\\anaconda3\\lib\\site-packages\\seaborn\\distributions.py:2619: FutureWarning: `distplot` is a deprecated function and will be removed in a future version. Please adapt your code to use either `displot` (a figure-level function with similar flexibility) or `histplot` (an axes-level function for histograms).\n",
      "  warnings.warn(msg, FutureWarning)\n"
     ]
    },
    {
     "data": {
      "text/plain": [
       "<AxesSubplot:xlabel='Victim_Age', ylabel='Density'>"
      ]
     },
     "execution_count": 28,
     "metadata": {},
     "output_type": "execute_result"
    },
    {
     "data": {
      "image/png": "[encoded data removed]",
      "text/plain": [
       "<Figure size 640x480 with 1 Axes>"
      ]
     },
     "metadata": {},
     "output_type": "display_data"
    }
   ],
   "source": [
    "#Histogram \n",
    "sns.distplot(df_crime['Victim_Age'])"
   ]
  },
  {
   "cell_type": "code",
   "execution_count": 29,
   "metadata": {},
   "outputs": [],
   "source": [
    "#Scatter Plot"
   ]
  },
  {
   "cell_type": "code",
   "execution_count": 30,
   "metadata": {},
   "outputs": [],
   "source": [
    "#Skewness and Kurtosis"
   ]
  },
  {
   "cell_type": "code",
   "execution_count": 31,
   "metadata": {},
   "outputs": [],
   "source": [
    "#Box Plot"
   ]
  },
  {
   "cell_type": "code",
   "execution_count": null,
   "metadata": {},
   "outputs": [],
   "source": [
    "# Correlation Matrix"
   ]
  },
  {
   "cell_type": "code",
   "execution_count": null,
   "metadata": {},
   "outputs": [],
   "source": [
    "# Correlation Matrix"
   ]
  }
 ],
 "metadata": {
  "kaggle": {
   "accelerator": "none",
   "dataSources": [
    {
     "datasetId": 44267,
     "sourceId": 525696,
     "sourceType": "datasetVersion"
    }
   ],
   "dockerImageVersionId": 30558,
   "isGpuEnabled": false,
   "isInternetEnabled": true,
   "language": "python",
   "sourceType": "notebook"
  },
  "kernelspec": {
   "display_name": "Python 3 (ipykernel)",
   "language": "python",
   "name": "python3"
  },
  "language_info": {
   "codemirror_mode": {
    "name": "ipython",
    "version": 3
   },
   "file_extension": ".py",
   "mimetype": "text/x-python",
   "name": "python",
   "nbconvert_exporter": "python",
   "pygments_lexer": "ipython3",
   "version": "3.9.13"
  }
 },
 "nbformat": 4,
 "nbformat_minor": 4
}
